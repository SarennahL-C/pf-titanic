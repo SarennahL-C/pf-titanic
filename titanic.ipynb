{
 "cells": [
  {
   "cell_type": "markdown",
   "id": "5cc673dc-3502-417d-b5f6-0397691e8846",
   "metadata": {},
   "source": [
    "# Titanic Task\n",
    "An in-depth EDA on the Titanic dataset based on the following guiding questions:\n",
    "* what is the most important factor in determining whether a person was likely to survive the sinking of the Titanic?\n",
    "* in the movie, the upper-class passengers were given preference on lifeboats. Does this show in the data?\n",
    "* \"Women and children first\". Was this the case?\n",
    "* an observation of my own from the dataset."
   ]
  },
  {
   "cell_type": "markdown",
   "id": "1f5e78b9-0ce9-40e2-a0fe-f5186f49660b",
   "metadata": {},
   "source": [
    "## Preparations"
   ]
  },
  {
   "cell_type": "code",
   "execution_count": 1,
   "id": "2ec68669-109c-4593-abd3-2ac37663c763",
   "metadata": {},
   "outputs": [
    {
     "name": "stdout",
     "output_type": "stream",
     "text": [
      "The data has 10692 entries in 891 rows and 12 columns.\n",
      "Sample rows:\n"
     ]
    },
    {
     "data": {
      "text/html": [
       "<div>\n",
       "<style scoped>\n",
       "    .dataframe tbody tr th:only-of-type {\n",
       "        vertical-align: middle;\n",
       "    }\n",
       "\n",
       "    .dataframe tbody tr th {\n",
       "        vertical-align: top;\n",
       "    }\n",
       "\n",
       "    .dataframe thead th {\n",
       "        text-align: right;\n",
       "    }\n",
       "</style>\n",
       "<table border=\"1\" class=\"dataframe\">\n",
       "  <thead>\n",
       "    <tr style=\"text-align: right;\">\n",
       "      <th></th>\n",
       "      <th>PassengerId</th>\n",
       "      <th>Survived</th>\n",
       "      <th>Pclass</th>\n",
       "      <th>Name</th>\n",
       "      <th>Sex</th>\n",
       "      <th>Age</th>\n",
       "      <th>SibSp</th>\n",
       "      <th>Parch</th>\n",
       "      <th>Ticket</th>\n",
       "      <th>Fare</th>\n",
       "      <th>Cabin</th>\n",
       "      <th>Embarked</th>\n",
       "    </tr>\n",
       "  </thead>\n",
       "  <tbody>\n",
       "    <tr>\n",
       "      <th>486</th>\n",
       "      <td>487</td>\n",
       "      <td>1</td>\n",
       "      <td>1</td>\n",
       "      <td>Hoyt, Mrs. Frederick Maxfield (Jane Anne Forby)</td>\n",
       "      <td>female</td>\n",
       "      <td>35.0</td>\n",
       "      <td>1</td>\n",
       "      <td>0</td>\n",
       "      <td>19943</td>\n",
       "      <td>90.0000</td>\n",
       "      <td>C93</td>\n",
       "      <td>S</td>\n",
       "    </tr>\n",
       "    <tr>\n",
       "      <th>113</th>\n",
       "      <td>114</td>\n",
       "      <td>0</td>\n",
       "      <td>3</td>\n",
       "      <td>Jussila, Miss. Katriina</td>\n",
       "      <td>female</td>\n",
       "      <td>20.0</td>\n",
       "      <td>1</td>\n",
       "      <td>0</td>\n",
       "      <td>4136</td>\n",
       "      <td>9.8250</td>\n",
       "      <td>NaN</td>\n",
       "      <td>S</td>\n",
       "    </tr>\n",
       "    <tr>\n",
       "      <th>300</th>\n",
       "      <td>301</td>\n",
       "      <td>1</td>\n",
       "      <td>3</td>\n",
       "      <td>Kelly, Miss. Anna Katherine \"Annie Kate\"</td>\n",
       "      <td>female</td>\n",
       "      <td>NaN</td>\n",
       "      <td>0</td>\n",
       "      <td>0</td>\n",
       "      <td>9234</td>\n",
       "      <td>7.7500</td>\n",
       "      <td>NaN</td>\n",
       "      <td>Q</td>\n",
       "    </tr>\n",
       "    <tr>\n",
       "      <th>696</th>\n",
       "      <td>697</td>\n",
       "      <td>0</td>\n",
       "      <td>3</td>\n",
       "      <td>Kelly, Mr. James</td>\n",
       "      <td>male</td>\n",
       "      <td>44.0</td>\n",
       "      <td>0</td>\n",
       "      <td>0</td>\n",
       "      <td>363592</td>\n",
       "      <td>8.0500</td>\n",
       "      <td>NaN</td>\n",
       "      <td>S</td>\n",
       "    </tr>\n",
       "    <tr>\n",
       "      <th>396</th>\n",
       "      <td>397</td>\n",
       "      <td>0</td>\n",
       "      <td>3</td>\n",
       "      <td>Olsson, Miss. Elina</td>\n",
       "      <td>female</td>\n",
       "      <td>31.0</td>\n",
       "      <td>0</td>\n",
       "      <td>0</td>\n",
       "      <td>350407</td>\n",
       "      <td>7.8542</td>\n",
       "      <td>NaN</td>\n",
       "      <td>S</td>\n",
       "    </tr>\n",
       "    <tr>\n",
       "      <th>590</th>\n",
       "      <td>591</td>\n",
       "      <td>0</td>\n",
       "      <td>3</td>\n",
       "      <td>Rintamaki, Mr. Matti</td>\n",
       "      <td>male</td>\n",
       "      <td>35.0</td>\n",
       "      <td>0</td>\n",
       "      <td>0</td>\n",
       "      <td>STON/O 2. 3101273</td>\n",
       "      <td>7.1250</td>\n",
       "      <td>NaN</td>\n",
       "      <td>S</td>\n",
       "    </tr>\n",
       "    <tr>\n",
       "      <th>787</th>\n",
       "      <td>788</td>\n",
       "      <td>0</td>\n",
       "      <td>3</td>\n",
       "      <td>Rice, Master. George Hugh</td>\n",
       "      <td>male</td>\n",
       "      <td>8.0</td>\n",
       "      <td>4</td>\n",
       "      <td>1</td>\n",
       "      <td>382652</td>\n",
       "      <td>29.1250</td>\n",
       "      <td>NaN</td>\n",
       "      <td>Q</td>\n",
       "    </tr>\n",
       "    <tr>\n",
       "      <th>531</th>\n",
       "      <td>532</td>\n",
       "      <td>0</td>\n",
       "      <td>3</td>\n",
       "      <td>Toufik, Mr. Nakli</td>\n",
       "      <td>male</td>\n",
       "      <td>NaN</td>\n",
       "      <td>0</td>\n",
       "      <td>0</td>\n",
       "      <td>2641</td>\n",
       "      <td>7.2292</td>\n",
       "      <td>NaN</td>\n",
       "      <td>C</td>\n",
       "    </tr>\n",
       "    <tr>\n",
       "      <th>288</th>\n",
       "      <td>289</td>\n",
       "      <td>1</td>\n",
       "      <td>2</td>\n",
       "      <td>Hosono, Mr. Masabumi</td>\n",
       "      <td>male</td>\n",
       "      <td>42.0</td>\n",
       "      <td>0</td>\n",
       "      <td>0</td>\n",
       "      <td>237798</td>\n",
       "      <td>13.0000</td>\n",
       "      <td>NaN</td>\n",
       "      <td>S</td>\n",
       "    </tr>\n",
       "    <tr>\n",
       "      <th>284</th>\n",
       "      <td>285</td>\n",
       "      <td>0</td>\n",
       "      <td>1</td>\n",
       "      <td>Smith, Mr. Richard William</td>\n",
       "      <td>male</td>\n",
       "      <td>NaN</td>\n",
       "      <td>0</td>\n",
       "      <td>0</td>\n",
       "      <td>113056</td>\n",
       "      <td>26.0000</td>\n",
       "      <td>A19</td>\n",
       "      <td>S</td>\n",
       "    </tr>\n",
       "  </tbody>\n",
       "</table>\n",
       "</div>"
      ],
      "text/plain": [
       "     PassengerId  Survived  Pclass  \\\n",
       "486          487         1       1   \n",
       "113          114         0       3   \n",
       "300          301         1       3   \n",
       "696          697         0       3   \n",
       "396          397         0       3   \n",
       "590          591         0       3   \n",
       "787          788         0       3   \n",
       "531          532         0       3   \n",
       "288          289         1       2   \n",
       "284          285         0       1   \n",
       "\n",
       "                                                Name     Sex   Age  SibSp  \\\n",
       "486  Hoyt, Mrs. Frederick Maxfield (Jane Anne Forby)  female  35.0      1   \n",
       "113                          Jussila, Miss. Katriina  female  20.0      1   \n",
       "300         Kelly, Miss. Anna Katherine \"Annie Kate\"  female   NaN      0   \n",
       "696                                 Kelly, Mr. James    male  44.0      0   \n",
       "396                              Olsson, Miss. Elina  female  31.0      0   \n",
       "590                             Rintamaki, Mr. Matti    male  35.0      0   \n",
       "787                        Rice, Master. George Hugh    male   8.0      4   \n",
       "531                                Toufik, Mr. Nakli    male   NaN      0   \n",
       "288                             Hosono, Mr. Masabumi    male  42.0      0   \n",
       "284                       Smith, Mr. Richard William    male   NaN      0   \n",
       "\n",
       "     Parch             Ticket     Fare Cabin Embarked  \n",
       "486      0              19943  90.0000   C93        S  \n",
       "113      0               4136   9.8250   NaN        S  \n",
       "300      0               9234   7.7500   NaN        Q  \n",
       "696      0             363592   8.0500   NaN        S  \n",
       "396      0             350407   7.8542   NaN        S  \n",
       "590      0  STON/O 2. 3101273   7.1250   NaN        S  \n",
       "787      1             382652  29.1250   NaN        Q  \n",
       "531      0               2641   7.2292   NaN        C  \n",
       "288      0             237798  13.0000   NaN        S  \n",
       "284      0             113056  26.0000   A19        S  "
      ]
     },
     "execution_count": 1,
     "metadata": {},
     "output_type": "execute_result"
    }
   ],
   "source": [
    "# Import modules\n",
    "import pandas as pd\n",
    "import numpy as np\n",
    "\n",
    "import matplotlib.pyplot as plt\n",
    "import seaborn as sns\n",
    "\n",
    "# Load the data\n",
    "df = pd.read_csv('titanic.csv')\n",
    "\n",
    "# Initial look at the data\n",
    "print(f\"The data has {df.shape[0]*df.shape[1]} entries in {df.shape[0]} rows and {df.shape[1]} columns.\")\n",
    "print(\"Sample rows:\")\n",
    "df.sample(10)"
   ]
  },
  {
   "cell_type": "markdown",
   "id": "60c96ed3-c330-48ee-ad8c-d82139783ee1",
   "metadata": {},
   "source": [
    "### Consult the metadata to understand the column entries"
   ]
  },
  {
   "cell_type": "markdown",
   "id": "d1692f7f-3316-4ce1-9869-26a118792180",
   "metadata": {},
   "source": [
    "Survived {0 = No, 1 = Yes}\\\n",
    "Pclass {1 = first (upper) class passenger, 2 = second (middle) class passenger, 3 = third (lower) class passenger}\\\n",
    "SibSp {number of siblings or spouses onboard}\\\n",
    "Parch {number of parents or children onboard}\\\n",
    "Embarked {C = Cherbourg, Q = Queenstown, S = Southampton}"
   ]
  },
  {
   "cell_type": "markdown",
   "id": "6abff7be-8338-450f-b54b-de4de37a47f1",
   "metadata": {},
   "source": [
    "## Column observations\n",
    "Looking for dependencies between column entries and redundancies. Remedying any issues found."
   ]
  },
  {
   "cell_type": "markdown",
   "id": "ac37bdd8-e8e4-4b94-b969-9555e2e4207d",
   "metadata": {},
   "source": [
    "PassengerId = row_index + 1."
   ]
  },
  {
   "cell_type": "code",
   "execution_count": 2,
   "id": "15543154-9261-473b-b10c-db4c5767999d",
   "metadata": {},
   "outputs": [],
   "source": [
    "# Remove PassengerId as a redundant column\n",
    "df.drop(['PassengerId'], inplace=True, axis=1)"
   ]
  },
  {
   "cell_type": "markdown",
   "id": "ad6a0fbd-36a2-4966-96aa-79a2f6d2cc8b",
   "metadata": {},
   "source": [
    "Name, cabin and ticket number cannot be used for statistical analysis."
   ]
  },
  {
   "cell_type": "code",
   "execution_count": 3,
   "id": "749719fd-48d2-416f-b225-98c2030f9b61",
   "metadata": {},
   "outputs": [],
   "source": [
    "# Remove Name and Ticket as redundant columns\n",
    "df.drop(['Name','Ticket', 'Cabin'], inplace=True, axis=1)"
   ]
  },
  {
   "cell_type": "markdown",
   "id": "0d7b680e-3400-4991-a31f-d3584a9f2f65",
   "metadata": {},
   "source": [
    "Fare will correlate with Pclass"
   ]
  },
  {
   "cell_type": "code",
   "execution_count": 4,
   "id": "d5d9c09f-3f26-4619-8d1f-5a872dd1ff4e",
   "metadata": {},
   "outputs": [],
   "source": [
    "# Remove Fare as redundant column\n",
    "df.drop(['Fare'], inplace=True, axis=1)"
   ]
  },
  {
   "cell_type": "markdown",
   "id": "3f5f9772-cd6d-46be-9ac6-ffe66968d3c4",
   "metadata": {},
   "source": [
    "Tidied dataset:"
   ]
  },
  {
   "cell_type": "code",
   "execution_count": 5,
   "id": "61b58251-59be-4971-b9bf-a4d691ecc6b5",
   "metadata": {},
   "outputs": [
    {
     "name": "stdout",
     "output_type": "stream",
     "text": [
      "The data has 6237 entries in 891 rows and 7 columns.\n",
      "Sample rows:\n"
     ]
    },
    {
     "data": {
      "text/html": [
       "<div>\n",
       "<style scoped>\n",
       "    .dataframe tbody tr th:only-of-type {\n",
       "        vertical-align: middle;\n",
       "    }\n",
       "\n",
       "    .dataframe tbody tr th {\n",
       "        vertical-align: top;\n",
       "    }\n",
       "\n",
       "    .dataframe thead th {\n",
       "        text-align: right;\n",
       "    }\n",
       "</style>\n",
       "<table border=\"1\" class=\"dataframe\">\n",
       "  <thead>\n",
       "    <tr style=\"text-align: right;\">\n",
       "      <th></th>\n",
       "      <th>Survived</th>\n",
       "      <th>Pclass</th>\n",
       "      <th>Sex</th>\n",
       "      <th>Age</th>\n",
       "      <th>SibSp</th>\n",
       "      <th>Parch</th>\n",
       "      <th>Embarked</th>\n",
       "    </tr>\n",
       "  </thead>\n",
       "  <tbody>\n",
       "    <tr>\n",
       "      <th>821</th>\n",
       "      <td>1</td>\n",
       "      <td>3</td>\n",
       "      <td>male</td>\n",
       "      <td>27.0</td>\n",
       "      <td>0</td>\n",
       "      <td>0</td>\n",
       "      <td>S</td>\n",
       "    </tr>\n",
       "    <tr>\n",
       "      <th>452</th>\n",
       "      <td>0</td>\n",
       "      <td>1</td>\n",
       "      <td>male</td>\n",
       "      <td>30.0</td>\n",
       "      <td>0</td>\n",
       "      <td>0</td>\n",
       "      <td>C</td>\n",
       "    </tr>\n",
       "    <tr>\n",
       "      <th>557</th>\n",
       "      <td>0</td>\n",
       "      <td>1</td>\n",
       "      <td>male</td>\n",
       "      <td>NaN</td>\n",
       "      <td>0</td>\n",
       "      <td>0</td>\n",
       "      <td>C</td>\n",
       "    </tr>\n",
       "    <tr>\n",
       "      <th>611</th>\n",
       "      <td>0</td>\n",
       "      <td>3</td>\n",
       "      <td>male</td>\n",
       "      <td>NaN</td>\n",
       "      <td>0</td>\n",
       "      <td>0</td>\n",
       "      <td>S</td>\n",
       "    </tr>\n",
       "    <tr>\n",
       "      <th>227</th>\n",
       "      <td>0</td>\n",
       "      <td>3</td>\n",
       "      <td>male</td>\n",
       "      <td>20.5</td>\n",
       "      <td>0</td>\n",
       "      <td>0</td>\n",
       "      <td>S</td>\n",
       "    </tr>\n",
       "    <tr>\n",
       "      <th>355</th>\n",
       "      <td>0</td>\n",
       "      <td>3</td>\n",
       "      <td>male</td>\n",
       "      <td>28.0</td>\n",
       "      <td>0</td>\n",
       "      <td>0</td>\n",
       "      <td>S</td>\n",
       "    </tr>\n",
       "    <tr>\n",
       "      <th>857</th>\n",
       "      <td>1</td>\n",
       "      <td>1</td>\n",
       "      <td>male</td>\n",
       "      <td>51.0</td>\n",
       "      <td>0</td>\n",
       "      <td>0</td>\n",
       "      <td>S</td>\n",
       "    </tr>\n",
       "    <tr>\n",
       "      <th>734</th>\n",
       "      <td>0</td>\n",
       "      <td>2</td>\n",
       "      <td>male</td>\n",
       "      <td>23.0</td>\n",
       "      <td>0</td>\n",
       "      <td>0</td>\n",
       "      <td>S</td>\n",
       "    </tr>\n",
       "    <tr>\n",
       "      <th>702</th>\n",
       "      <td>0</td>\n",
       "      <td>3</td>\n",
       "      <td>female</td>\n",
       "      <td>18.0</td>\n",
       "      <td>0</td>\n",
       "      <td>1</td>\n",
       "      <td>C</td>\n",
       "    </tr>\n",
       "    <tr>\n",
       "      <th>413</th>\n",
       "      <td>0</td>\n",
       "      <td>2</td>\n",
       "      <td>male</td>\n",
       "      <td>NaN</td>\n",
       "      <td>0</td>\n",
       "      <td>0</td>\n",
       "      <td>S</td>\n",
       "    </tr>\n",
       "  </tbody>\n",
       "</table>\n",
       "</div>"
      ],
      "text/plain": [
       "     Survived  Pclass     Sex   Age  SibSp  Parch Embarked\n",
       "821         1       3    male  27.0      0      0        S\n",
       "452         0       1    male  30.0      0      0        C\n",
       "557         0       1    male   NaN      0      0        C\n",
       "611         0       3    male   NaN      0      0        S\n",
       "227         0       3    male  20.5      0      0        S\n",
       "355         0       3    male  28.0      0      0        S\n",
       "857         1       1    male  51.0      0      0        S\n",
       "734         0       2    male  23.0      0      0        S\n",
       "702         0       3  female  18.0      0      1        C\n",
       "413         0       2    male   NaN      0      0        S"
      ]
     },
     "execution_count": 5,
     "metadata": {},
     "output_type": "execute_result"
    }
   ],
   "source": [
    "print(f\"The data has {df.shape[0]*df.shape[1]} entries in {df.shape[0]} rows and {df.shape[1]} columns.\")\n",
    "print(\"Sample rows:\")\n",
    "df.sample(10)"
   ]
  },
  {
   "attachments": {},
   "cell_type": "markdown",
   "id": "33db60fc-f28e-4ac0-a77b-05b6f1ee146e",
   "metadata": {},
   "source": [
    "## Check for missing values"
   ]
  },
  {
   "cell_type": "code",
   "execution_count": 6,
   "id": "9fd4c6d9-c128-4b0a-aba2-7b8e642f2481",
   "metadata": {},
   "outputs": [
    {
     "data": {
      "text/plain": [
       "Survived      0\n",
       "Pclass        0\n",
       "Sex           0\n",
       "Age         177\n",
       "SibSp         0\n",
       "Parch         0\n",
       "Embarked      2\n",
       "dtype: int64"
      ]
     },
     "execution_count": 6,
     "metadata": {},
     "output_type": "execute_result"
    }
   ],
   "source": [
    "# Get the number of missing data values per column\n",
    "missing_values = df.isnull().sum()\n",
    "missing_values"
   ]
  },
  {
   "cell_type": "markdown",
   "id": "5ea3e918-d059-4721-9156-b5269d623706",
   "metadata": {},
   "source": [
    "All passengers embarked somewhere, so the two NaN in the Embarked column are data errors."
   ]
  },
  {
   "cell_type": "code",
   "execution_count": 7,
   "id": "c3331e03-3532-4401-8694-ef2d1291bde8",
   "metadata": {},
   "outputs": [
    {
     "data": {
      "text/plain": [
       "Survived      0\n",
       "Pclass        0\n",
       "Sex           0\n",
       "Age         177\n",
       "SibSp         0\n",
       "Parch         0\n",
       "Embarked      0\n",
       "dtype: int64"
      ]
     },
     "execution_count": 7,
     "metadata": {},
     "output_type": "execute_result"
    }
   ],
   "source": [
    "# Remove the two rows with Embarked = NaN\n",
    "df.dropna(subset=['Embarked'], inplace=True)\n",
    "missing_values = df.isnull().sum()\n",
    "missing_values"
   ]
  },
  {
   "cell_type": "markdown",
   "id": "c31e55d9-b293-474e-8227-0b60177d9076",
   "metadata": {},
   "source": [
    "### Age\n",
    "\n",
    "Investigate the NaNs in Age for potential links to other data."
   ]
  },
  {
   "cell_type": "code",
   "execution_count": 8,
   "id": "9875bd59-e7ac-48d3-aa29-999b6f028881",
   "metadata": {},
   "outputs": [
    {
     "data": {
      "image/png": "[encoded data removed]",
      "text/plain": [
       "<Figure size 640x480 with 1 Axes>"
      ]
     },
     "metadata": {},
     "output_type": "display_data"
    }
   ],
   "source": [
    "# Create two temporary dataframes for known age and NaN age\n",
    "age_df = df.dropna(subset=['Age'])\n",
    "nan_age = df[df['Age'].isnull()]\n",
    "\n",
    "# Display known ages as a histogram\n",
    "fig = plt.figure()\n",
    "sns.histplot(data=age_df, x='Age', hue='Sex', multiple='stack')\n",
    "plt.show()"
   ]
  },
  {
   "cell_type": "markdown",
   "id": "067ea3d3-ee4a-4dea-9399-3dcfa77e9424",
   "metadata": {},
   "source": [
    "The age distributions for males and females are similar. There are more elderly men present than women, but the modes are in a similar position."
   ]
  },
  {
   "cell_type": "code",
   "execution_count": 9,
   "id": "593e2132-5a0a-4d2f-bab5-7d3d0e3abb35",
   "metadata": {},
   "outputs": [
    {
     "name": "stdout",
     "output_type": "stream",
     "text": [
      "age_df\n",
      "Sex\n",
      "male      0.636236\n",
      "female    0.363764\n",
      "Name: proportion, dtype: float64\n",
      "nan_age\n",
      "Sex\n",
      "male      0.700565\n",
      "female    0.299435\n",
      "Name: proportion, dtype: float64\n"
     ]
    }
   ],
   "source": [
    "# Check the male:female ratios are the same in both datasets\n",
    "print('age_df')\n",
    "print(age_df['Sex'].value_counts(normalize=True))\n",
    "print('nan_age')\n",
    "print(nan_age['Sex'].value_counts(normalize=True))"
   ]
  },
  {
   "cell_type": "markdown",
   "id": "bae6be81-e93c-487a-8f6a-06274ae8f5d5",
   "metadata": {},
   "source": [
    "The nan_age population is skewed slightly more towards male than the age_df population. But the discrepancy is small, so I will assume nan_age occurs in equal proportions for both sexes.\n",
    "\n",
    "Making the same check for age vs Pclass and age vs survive."
   ]
  },
  {
   "cell_type": "code",
   "execution_count": 10,
   "id": "d3f87694-773b-4fa5-bca8-5e5ebec12df9",
   "metadata": {},
   "outputs": [
    {
     "name": "stdout",
     "output_type": "stream",
     "text": [
      "age_df\n",
      "Pclass\n",
      "3    0.498596\n",
      "1    0.258427\n",
      "2    0.242978\n",
      "Name: proportion, dtype: float64\n",
      "Survived\n",
      "0    0.595506\n",
      "1    0.404494\n",
      "Name: proportion, dtype: float64\n",
      "\n",
      "nan_age\n",
      "Pclass\n",
      "3    0.768362\n",
      "1    0.169492\n",
      "2    0.062147\n",
      "Name: proportion, dtype: float64\n",
      "Survived\n",
      "0    0.706215\n",
      "1    0.293785\n",
      "Name: proportion, dtype: float64\n"
     ]
    }
   ],
   "source": [
    "print('age_df')\n",
    "print(age_df['Pclass'].value_counts(normalize=True))\n",
    "print(age_df['Survived'].value_counts(normalize=True))\n",
    "print(f\"\\nnan_age\")\n",
    "print(nan_age['Pclass'].value_counts(normalize=True))\n",
    "print(nan_age['Survived'].value_counts(normalize=True))"
   ]
  },
  {
   "cell_type": "markdown",
   "id": "2cb4654a-3f5c-4ed1-aea2-7739a275d608",
   "metadata": {},
   "source": [
    "It seems most of the nan_age are 3rd class passengers, and many of them died. Therefore eliminating nan_age records is likely to bias the overall analysis. To preserve as much of the nan_age data as possible, substitute a median age for NaN."
   ]
  },
  {
   "cell_type": "code",
   "execution_count": 11,
   "id": "fc96d1f4-09cd-40bc-9d93-70e34c48c958",
   "metadata": {},
   "outputs": [
    {
     "data": {
      "image/png": "[encoded data removed]",
      "text/plain": [
       "<Figure size 640x480 with 1 Axes>"
      ]
     },
     "metadata": {},
     "output_type": "display_data"
    }
   ],
   "source": [
    "# Display known ages as a histogram to see if the distribution for 3rd class is any different to the overall population\n",
    "fig = plt.figure()\n",
    "sns.histplot(data=age_df, x='Age', hue='Pclass', multiple='stack', palette = 'bright')\n",
    "plt.show()"
   ]
  },
  {
   "cell_type": "markdown",
   "id": "c7cae3ec-90a2-4239-8739-c897b0d12f92",
   "metadata": {},
   "source": [
    "The age distribution for Pclass = 3 is noticably lower than for other Pclasses. Therefore take the substitute age value to be the median age from Pclass."
   ]
  },
  {
   "cell_type": "code",
   "execution_count": 12,
   "id": "e6a21288-6e4a-43f5-ad00-abcd8542ad19",
   "metadata": {},
   "outputs": [
    {
     "name": "stdout",
     "output_type": "stream",
     "text": [
      "24.0\n"
     ]
    }
   ],
   "source": [
    "# Find the substitute age from Pclass = 3\n",
    "Pcl3_age_df = age_df[age_df['Pclass']==3]\n",
    "\n",
    "sub_age = Pcl3_age_df['Age'].median()\n",
    "print(sub_age)"
   ]
  },
  {
   "cell_type": "code",
   "execution_count": 13,
   "id": "78aec28f-ee1e-4588-90f8-8cffa17f9e91",
   "metadata": {},
   "outputs": [],
   "source": [
    "# Replace NaN ages with sub_age\n",
    "df['Age'] = df['Age'].fillna(sub_age)"
   ]
  },
  {
   "cell_type": "markdown",
   "id": "22fbc09f-2fe0-4451-9c40-da6818f95523",
   "metadata": {},
   "source": [
    "### Replace categorical data with binary columns and remove dependencies"
   ]
  },
  {
   "cell_type": "markdown",
   "id": "e7b06ece-b27a-43ff-a364-8e2635e3342f",
   "metadata": {},
   "source": [
    "Research indicates most passengers are 3rd class and most embarked at Southampton. Check these assumptions before getting dummies for these columns."
   ]
  },
  {
   "cell_type": "code",
   "execution_count": 14,
   "id": "f4d694e4-e2b8-4aa2-944a-d7054b1fa5b4",
   "metadata": {},
   "outputs": [
    {
     "name": "stdout",
     "output_type": "stream",
     "text": [
      "Pclass\n",
      "3    491\n",
      "1    214\n",
      "2    184\n",
      "Name: count, dtype: int64\n"
     ]
    }
   ],
   "source": [
    "# Check the assumption most passengers are 3rd class ie Pclass = 3\n",
    "print(df['Pclass'].value_counts())"
   ]
  },
  {
   "cell_type": "code",
   "execution_count": 15,
   "id": "b996b86c",
   "metadata": {},
   "outputs": [
    {
     "name": "stdout",
     "output_type": "stream",
     "text": [
      "Embarked\n",
      "S    644\n",
      "C    168\n",
      "Q     77\n",
      "Name: count, dtype: int64\n"
     ]
    }
   ],
   "source": [
    "# Check the assumption most passengers embark at Southampton ie Embarked = S\n",
    "print(df['Embarked'].value_counts())"
   ]
  },
  {
   "cell_type": "markdown",
   "id": "741fe195-5a06-4d7e-ad6d-02ac0a551d55",
   "metadata": {},
   "source": [
    "Both assumptions are correct for this dataset."
   ]
  },
  {
   "cell_type": "code",
   "execution_count": 16,
   "id": "ef316ee0-fa35-4033-9867-ec40162e7e0a",
   "metadata": {},
   "outputs": [
    {
     "data": {
      "text/html": [
       "<div>\n",
       "<style scoped>\n",
       "    .dataframe tbody tr th:only-of-type {\n",
       "        vertical-align: middle;\n",
       "    }\n",
       "\n",
       "    .dataframe tbody tr th {\n",
       "        vertical-align: top;\n",
       "    }\n",
       "\n",
       "    .dataframe thead th {\n",
       "        text-align: right;\n",
       "    }\n",
       "</style>\n",
       "<table border=\"1\" class=\"dataframe\">\n",
       "  <thead>\n",
       "    <tr style=\"text-align: right;\">\n",
       "      <th></th>\n",
       "      <th>Survived</th>\n",
       "      <th>Sex</th>\n",
       "      <th>Age</th>\n",
       "      <th>SibSp</th>\n",
       "      <th>Parch</th>\n",
       "      <th>Pclass_1</th>\n",
       "      <th>Pclass_2</th>\n",
       "      <th>Pclass_3</th>\n",
       "      <th>Embarked_C</th>\n",
       "      <th>Embarked_Q</th>\n",
       "      <th>Embarked_S</th>\n",
       "    </tr>\n",
       "  </thead>\n",
       "  <tbody>\n",
       "    <tr>\n",
       "      <th>0</th>\n",
       "      <td>0</td>\n",
       "      <td>male</td>\n",
       "      <td>22.0</td>\n",
       "      <td>1</td>\n",
       "      <td>0</td>\n",
       "      <td>False</td>\n",
       "      <td>False</td>\n",
       "      <td>True</td>\n",
       "      <td>False</td>\n",
       "      <td>False</td>\n",
       "      <td>True</td>\n",
       "    </tr>\n",
       "    <tr>\n",
       "      <th>1</th>\n",
       "      <td>1</td>\n",
       "      <td>female</td>\n",
       "      <td>38.0</td>\n",
       "      <td>1</td>\n",
       "      <td>0</td>\n",
       "      <td>True</td>\n",
       "      <td>False</td>\n",
       "      <td>False</td>\n",
       "      <td>True</td>\n",
       "      <td>False</td>\n",
       "      <td>False</td>\n",
       "    </tr>\n",
       "    <tr>\n",
       "      <th>2</th>\n",
       "      <td>1</td>\n",
       "      <td>female</td>\n",
       "      <td>26.0</td>\n",
       "      <td>0</td>\n",
       "      <td>0</td>\n",
       "      <td>False</td>\n",
       "      <td>False</td>\n",
       "      <td>True</td>\n",
       "      <td>False</td>\n",
       "      <td>False</td>\n",
       "      <td>True</td>\n",
       "    </tr>\n",
       "    <tr>\n",
       "      <th>3</th>\n",
       "      <td>1</td>\n",
       "      <td>female</td>\n",
       "      <td>35.0</td>\n",
       "      <td>1</td>\n",
       "      <td>0</td>\n",
       "      <td>True</td>\n",
       "      <td>False</td>\n",
       "      <td>False</td>\n",
       "      <td>False</td>\n",
       "      <td>False</td>\n",
       "      <td>True</td>\n",
       "    </tr>\n",
       "    <tr>\n",
       "      <th>4</th>\n",
       "      <td>0</td>\n",
       "      <td>male</td>\n",
       "      <td>35.0</td>\n",
       "      <td>0</td>\n",
       "      <td>0</td>\n",
       "      <td>False</td>\n",
       "      <td>False</td>\n",
       "      <td>True</td>\n",
       "      <td>False</td>\n",
       "      <td>False</td>\n",
       "      <td>True</td>\n",
       "    </tr>\n",
       "  </tbody>\n",
       "</table>\n",
       "</div>"
      ],
      "text/plain": [
       "   Survived     Sex   Age  SibSp  Parch  Pclass_1  Pclass_2  Pclass_3  \\\n",
       "0         0    male  22.0      1      0     False     False      True   \n",
       "1         1  female  38.0      1      0      True     False     False   \n",
       "2         1  female  26.0      0      0     False     False      True   \n",
       "3         1  female  35.0      1      0      True     False     False   \n",
       "4         0    male  35.0      0      0     False     False      True   \n",
       "\n",
       "   Embarked_C  Embarked_Q  Embarked_S  \n",
       "0       False       False        True  \n",
       "1        True       False       False  \n",
       "2       False       False        True  \n",
       "3       False       False        True  \n",
       "4       False       False        True  "
      ]
     },
     "execution_count": 16,
     "metadata": {},
     "output_type": "execute_result"
    }
   ],
   "source": [
    "# Get dummy columns\n",
    "df_dummy = pd.get_dummies(data=df, columns=['Pclass','Embarked'])\n",
    "df_dummy.head()"
   ]
  },
  {
   "cell_type": "markdown",
   "id": "71514697-d417-459b-a860-6ffab262c176",
   "metadata": {},
   "source": [
    "Avoid the dummy variable trap by removing the dependent variables for Pclass and Embarked. Set Pclass_3 as the default (Pclass_1, Pclass_2 = 0,0 indicates Pclass_3 is true). Set Embarked_S as the default (Embarked_C, Embarked_Q = 0,0 indicates Embarked_S is true.)"
   ]
  },
  {
   "cell_type": "code",
   "execution_count": 17,
   "id": "140697c0-8791-48ed-b297-225f714c5f50",
   "metadata": {},
   "outputs": [
    {
     "data": {
      "text/html": [
       "<div>\n",
       "<style scoped>\n",
       "    .dataframe tbody tr th:only-of-type {\n",
       "        vertical-align: middle;\n",
       "    }\n",
       "\n",
       "    .dataframe tbody tr th {\n",
       "        vertical-align: top;\n",
       "    }\n",
       "\n",
       "    .dataframe thead th {\n",
       "        text-align: right;\n",
       "    }\n",
       "</style>\n",
       "<table border=\"1\" class=\"dataframe\">\n",
       "  <thead>\n",
       "    <tr style=\"text-align: right;\">\n",
       "      <th></th>\n",
       "      <th>Survived</th>\n",
       "      <th>Sex</th>\n",
       "      <th>Age</th>\n",
       "      <th>SibSp</th>\n",
       "      <th>Parch</th>\n",
       "      <th>Pclass_1</th>\n",
       "      <th>Pclass_2</th>\n",
       "      <th>Embarked_C</th>\n",
       "      <th>Embarked_Q</th>\n",
       "    </tr>\n",
       "  </thead>\n",
       "  <tbody>\n",
       "    <tr>\n",
       "      <th>0</th>\n",
       "      <td>0</td>\n",
       "      <td>male</td>\n",
       "      <td>22.0</td>\n",
       "      <td>1</td>\n",
       "      <td>0</td>\n",
       "      <td>False</td>\n",
       "      <td>False</td>\n",
       "      <td>False</td>\n",
       "      <td>False</td>\n",
       "    </tr>\n",
       "    <tr>\n",
       "      <th>1</th>\n",
       "      <td>1</td>\n",
       "      <td>female</td>\n",
       "      <td>38.0</td>\n",
       "      <td>1</td>\n",
       "      <td>0</td>\n",
       "      <td>True</td>\n",
       "      <td>False</td>\n",
       "      <td>True</td>\n",
       "      <td>False</td>\n",
       "    </tr>\n",
       "    <tr>\n",
       "      <th>2</th>\n",
       "      <td>1</td>\n",
       "      <td>female</td>\n",
       "      <td>26.0</td>\n",
       "      <td>0</td>\n",
       "      <td>0</td>\n",
       "      <td>False</td>\n",
       "      <td>False</td>\n",
       "      <td>False</td>\n",
       "      <td>False</td>\n",
       "    </tr>\n",
       "    <tr>\n",
       "      <th>3</th>\n",
       "      <td>1</td>\n",
       "      <td>female</td>\n",
       "      <td>35.0</td>\n",
       "      <td>1</td>\n",
       "      <td>0</td>\n",
       "      <td>True</td>\n",
       "      <td>False</td>\n",
       "      <td>False</td>\n",
       "      <td>False</td>\n",
       "    </tr>\n",
       "    <tr>\n",
       "      <th>4</th>\n",
       "      <td>0</td>\n",
       "      <td>male</td>\n",
       "      <td>35.0</td>\n",
       "      <td>0</td>\n",
       "      <td>0</td>\n",
       "      <td>False</td>\n",
       "      <td>False</td>\n",
       "      <td>False</td>\n",
       "      <td>False</td>\n",
       "    </tr>\n",
       "  </tbody>\n",
       "</table>\n",
       "</div>"
      ],
      "text/plain": [
       "   Survived     Sex   Age  SibSp  Parch  Pclass_1  Pclass_2  Embarked_C  \\\n",
       "0         0    male  22.0      1      0     False     False       False   \n",
       "1         1  female  38.0      1      0      True     False        True   \n",
       "2         1  female  26.0      0      0     False     False       False   \n",
       "3         1  female  35.0      1      0      True     False       False   \n",
       "4         0    male  35.0      0      0     False     False       False   \n",
       "\n",
       "   Embarked_Q  \n",
       "0       False  \n",
       "1       False  \n",
       "2       False  \n",
       "3       False  \n",
       "4       False  "
      ]
     },
     "execution_count": 17,
     "metadata": {},
     "output_type": "execute_result"
    }
   ],
   "source": [
    "# Avoid the dummy variable trap by removing dependent variables\n",
    "col_to_drop = ['Pclass_3', 'Embarked_S']\n",
    "df_dummy_drop = df_dummy.drop(columns=col_to_drop)\n",
    "df_dummy_drop.head()"
   ]
  },
  {
   "cell_type": "markdown",
   "id": "2b45645b-380b-4c3e-9a7f-c5a4cb66e903",
   "metadata": {},
   "source": [
    "Columns SibSp and Parch are categorical variables like Pclass and Embarked. But using get_dummies on them would result in lots of columns with potentially redundant information. The information in SibSp and Parch describes the family grouping. The size of the family group is less relevant for these questions than simply being in a family group. Therefore I will simplify the data by introducing a boolean column \"Family\" = True if SibSp >=1 or Parch >=1."
   ]
  },
  {
   "cell_type": "code",
   "execution_count": 18,
   "id": "91fe4d2c-15cf-41ff-8a88-0b7514da35f8",
   "metadata": {},
   "outputs": [
    {
     "data": {
      "text/html": [
       "<div>\n",
       "<style scoped>\n",
       "    .dataframe tbody tr th:only-of-type {\n",
       "        vertical-align: middle;\n",
       "    }\n",
       "\n",
       "    .dataframe tbody tr th {\n",
       "        vertical-align: top;\n",
       "    }\n",
       "\n",
       "    .dataframe thead th {\n",
       "        text-align: right;\n",
       "    }\n",
       "</style>\n",
       "<table border=\"1\" class=\"dataframe\">\n",
       "  <thead>\n",
       "    <tr style=\"text-align: right;\">\n",
       "      <th></th>\n",
       "      <th>Survived</th>\n",
       "      <th>Sex</th>\n",
       "      <th>Age</th>\n",
       "      <th>SibSp</th>\n",
       "      <th>Parch</th>\n",
       "      <th>Pclass_1</th>\n",
       "      <th>Pclass_2</th>\n",
       "      <th>Embarked_C</th>\n",
       "      <th>Embarked_Q</th>\n",
       "      <th>Family</th>\n",
       "    </tr>\n",
       "  </thead>\n",
       "  <tbody>\n",
       "    <tr>\n",
       "      <th>0</th>\n",
       "      <td>0</td>\n",
       "      <td>male</td>\n",
       "      <td>22.0</td>\n",
       "      <td>1</td>\n",
       "      <td>0</td>\n",
       "      <td>False</td>\n",
       "      <td>False</td>\n",
       "      <td>False</td>\n",
       "      <td>False</td>\n",
       "      <td>True</td>\n",
       "    </tr>\n",
       "    <tr>\n",
       "      <th>1</th>\n",
       "      <td>1</td>\n",
       "      <td>female</td>\n",
       "      <td>38.0</td>\n",
       "      <td>1</td>\n",
       "      <td>0</td>\n",
       "      <td>True</td>\n",
       "      <td>False</td>\n",
       "      <td>True</td>\n",
       "      <td>False</td>\n",
       "      <td>True</td>\n",
       "    </tr>\n",
       "    <tr>\n",
       "      <th>2</th>\n",
       "      <td>1</td>\n",
       "      <td>female</td>\n",
       "      <td>26.0</td>\n",
       "      <td>0</td>\n",
       "      <td>0</td>\n",
       "      <td>False</td>\n",
       "      <td>False</td>\n",
       "      <td>False</td>\n",
       "      <td>False</td>\n",
       "      <td>False</td>\n",
       "    </tr>\n",
       "    <tr>\n",
       "      <th>3</th>\n",
       "      <td>1</td>\n",
       "      <td>female</td>\n",
       "      <td>35.0</td>\n",
       "      <td>1</td>\n",
       "      <td>0</td>\n",
       "      <td>True</td>\n",
       "      <td>False</td>\n",
       "      <td>False</td>\n",
       "      <td>False</td>\n",
       "      <td>True</td>\n",
       "    </tr>\n",
       "    <tr>\n",
       "      <th>4</th>\n",
       "      <td>0</td>\n",
       "      <td>male</td>\n",
       "      <td>35.0</td>\n",
       "      <td>0</td>\n",
       "      <td>0</td>\n",
       "      <td>False</td>\n",
       "      <td>False</td>\n",
       "      <td>False</td>\n",
       "      <td>False</td>\n",
       "      <td>False</td>\n",
       "    </tr>\n",
       "  </tbody>\n",
       "</table>\n",
       "</div>"
      ],
      "text/plain": [
       "   Survived     Sex   Age  SibSp  Parch  Pclass_1  Pclass_2  Embarked_C  \\\n",
       "0         0    male  22.0      1      0     False     False       False   \n",
       "1         1  female  38.0      1      0      True     False        True   \n",
       "2         1  female  26.0      0      0     False     False       False   \n",
       "3         1  female  35.0      1      0      True     False       False   \n",
       "4         0    male  35.0      0      0     False     False       False   \n",
       "\n",
       "   Embarked_Q  Family  \n",
       "0       False    True  \n",
       "1       False    True  \n",
       "2       False   False  \n",
       "3       False    True  \n",
       "4       False   False  "
      ]
     },
     "execution_count": 18,
     "metadata": {},
     "output_type": "execute_result"
    }
   ],
   "source": [
    "# Create Family\n",
    "df_dummy_drop['Family'] = np.where(df_dummy_drop['SibSp']+df_dummy_drop['Parch'] >= 1, True, False)\n",
    "df_dummy_drop.head()"
   ]
  },
  {
   "cell_type": "code",
   "execution_count": 19,
   "id": "2ee544a6-94dd-45ed-a005-9c3d9f3e5d23",
   "metadata": {},
   "outputs": [
    {
     "data": {
      "text/html": [
       "<div>\n",
       "<style scoped>\n",
       "    .dataframe tbody tr th:only-of-type {\n",
       "        vertical-align: middle;\n",
       "    }\n",
       "\n",
       "    .dataframe tbody tr th {\n",
       "        vertical-align: top;\n",
       "    }\n",
       "\n",
       "    .dataframe thead th {\n",
       "        text-align: right;\n",
       "    }\n",
       "</style>\n",
       "<table border=\"1\" class=\"dataframe\">\n",
       "  <thead>\n",
       "    <tr style=\"text-align: right;\">\n",
       "      <th></th>\n",
       "      <th>Survived</th>\n",
       "      <th>Sex</th>\n",
       "      <th>Age</th>\n",
       "      <th>Pclass_1</th>\n",
       "      <th>Pclass_2</th>\n",
       "      <th>Embarked_C</th>\n",
       "      <th>Embarked_Q</th>\n",
       "      <th>Family</th>\n",
       "    </tr>\n",
       "  </thead>\n",
       "  <tbody>\n",
       "    <tr>\n",
       "      <th>0</th>\n",
       "      <td>0</td>\n",
       "      <td>male</td>\n",
       "      <td>22.0</td>\n",
       "      <td>False</td>\n",
       "      <td>False</td>\n",
       "      <td>False</td>\n",
       "      <td>False</td>\n",
       "      <td>True</td>\n",
       "    </tr>\n",
       "    <tr>\n",
       "      <th>1</th>\n",
       "      <td>1</td>\n",
       "      <td>female</td>\n",
       "      <td>38.0</td>\n",
       "      <td>True</td>\n",
       "      <td>False</td>\n",
       "      <td>True</td>\n",
       "      <td>False</td>\n",
       "      <td>True</td>\n",
       "    </tr>\n",
       "    <tr>\n",
       "      <th>2</th>\n",
       "      <td>1</td>\n",
       "      <td>female</td>\n",
       "      <td>26.0</td>\n",
       "      <td>False</td>\n",
       "      <td>False</td>\n",
       "      <td>False</td>\n",
       "      <td>False</td>\n",
       "      <td>False</td>\n",
       "    </tr>\n",
       "    <tr>\n",
       "      <th>3</th>\n",
       "      <td>1</td>\n",
       "      <td>female</td>\n",
       "      <td>35.0</td>\n",
       "      <td>True</td>\n",
       "      <td>False</td>\n",
       "      <td>False</td>\n",
       "      <td>False</td>\n",
       "      <td>True</td>\n",
       "    </tr>\n",
       "    <tr>\n",
       "      <th>4</th>\n",
       "      <td>0</td>\n",
       "      <td>male</td>\n",
       "      <td>35.0</td>\n",
       "      <td>False</td>\n",
       "      <td>False</td>\n",
       "      <td>False</td>\n",
       "      <td>False</td>\n",
       "      <td>False</td>\n",
       "    </tr>\n",
       "  </tbody>\n",
       "</table>\n",
       "</div>"
      ],
      "text/plain": [
       "   Survived     Sex   Age  Pclass_1  Pclass_2  Embarked_C  Embarked_Q  Family\n",
       "0         0    male  22.0     False     False       False       False    True\n",
       "1         1  female  38.0      True     False        True       False    True\n",
       "2         1  female  26.0     False     False       False       False   False\n",
       "3         1  female  35.0      True     False       False       False    True\n",
       "4         0    male  35.0     False     False       False       False   False"
      ]
     },
     "execution_count": 19,
     "metadata": {},
     "output_type": "execute_result"
    }
   ],
   "source": [
    "# Remove SibSp and Parch variables\n",
    "col_to_drop = ['SibSp', 'Parch']\n",
    "df_dummy_drop = df_dummy_drop.drop(columns=col_to_drop)\n",
    "df_dummy_drop.head()"
   ]
  },
  {
   "cell_type": "markdown",
   "id": "6d232ba1-6266-407a-acc0-a565ec612c46",
   "metadata": {},
   "source": [
    "## What is the most important factor in surviving the Titanic?"
   ]
  },
  {
   "cell_type": "markdown",
   "id": "41241416-18c4-4519-b0ff-19167535bd2b",
   "metadata": {},
   "source": [
    "A Pearson correlation matrix describes the relationship between variables on a scale from +1 (strongly positively correlated) through 0 (no correlation) to -1 (strongly negatively correlated). If variables A and B are positively correlated, and A increases, B will also increase. But if they are negatively correlated B will decrease. See https://www.statology.org/how-to-read-a-correlation-matrix/ for more about correlation matrices."
   ]
  },
  {
   "cell_type": "code",
   "execution_count": 20,
   "id": "e27da8fb-97ae-49a8-96f6-ea56bde99e44",
   "metadata": {},
   "outputs": [
    {
     "name": "stdout",
     "output_type": "stream",
     "text": [
      "            Survived       Age  Pclass_1  Pclass_2  Embarked_C  Embarked_Q  \\\n",
      "Survived    1.000000 -0.057833  0.282368  0.095002    0.169966    0.004536   \n",
      "Age        -0.057833  1.000000  0.325686  0.039125    0.027688   -0.070967   \n",
      "Pclass_1    0.282368  0.325686  1.000000 -0.287653    0.299472   -0.154680   \n",
      "Pclass_2    0.095002  0.039125 -0.287653  1.000000   -0.126039   -0.127705   \n",
      "Embarked_C  0.169966  0.027688  0.299472 -0.126039    1.000000   -0.148646   \n",
      "Embarked_Q  0.004536 -0.070967 -0.154680 -0.127705   -0.148646    1.000000   \n",
      "Family      0.206207 -0.148725  0.117091  0.038178    0.094513   -0.087099   \n",
      "\n",
      "              Family  \n",
      "Survived    0.206207  \n",
      "Age        -0.148725  \n",
      "Pclass_1    0.117091  \n",
      "Pclass_2    0.038178  \n",
      "Embarked_C  0.094513  \n",
      "Embarked_Q -0.087099  \n",
      "Family      1.000000  \n"
     ]
    }
   ],
   "source": [
    "# Use prepared data df_dummy_drop to avoid biasing the correlation\n",
    "# Correlation matrix\n",
    "corr = df_dummy_drop.corr(numeric_only=True)\n",
    "print(corr)"
   ]
  },
  {
   "cell_type": "code",
   "execution_count": 21,
   "id": "78d14ae9",
   "metadata": {},
   "outputs": [
    {
     "data": {
      "image/png": "[encoded data removed]",
      "text/plain": [
       "<Figure size 640x480 with 2 Axes>"
      ]
     },
     "metadata": {},
     "output_type": "display_data"
    }
   ],
   "source": [
    "# Plot correlation heatmap\n",
    "fig = plt.figure()\n",
    "sns.heatmap(corr, cmap=\"RdBu_r\", annot=True, vmin=-1, vmax=1) # vmin and vmax set the scale. For easy interpretation set to +-1.\n",
    "plt.show()"
   ]
  },
  {
   "cell_type": "markdown",
   "id": "923680a0-c211-4c4f-9e68-6091df53daf7",
   "metadata": {},
   "source": [
    "The most important factor for surviving the Titanic is the variable with the highest Pearson correlation factor, or the reddest in the correlation heatmap, in the Survived row. Therefore the most important factor in surviving the Titanic is Pclass_1 ie being in first class."
   ]
  },
  {
   "cell_type": "markdown",
   "id": "99fdc71d-48d7-4cdd-a0bc-e088f7a45063",
   "metadata": {},
   "source": [
    "## Were upper class passengers prioritised?"
   ]
  },
  {
   "cell_type": "markdown",
   "id": "47290f04-fd15-4725-abce-f06d4bd0ab15",
   "metadata": {},
   "source": [
    "Consider \"upper class\" passengers to be 1st or 2nd class. I will revert to the dataframe without the dummy variables to simplify this analysis and interpretation."
   ]
  },
  {
   "cell_type": "code",
   "execution_count": 22,
   "id": "c611830d-ad8d-4760-bec1-1efc05cf8246",
   "metadata": {},
   "outputs": [
    {
     "data": {
      "text/html": [
       "<div>\n",
       "<style scoped>\n",
       "    .dataframe tbody tr th:only-of-type {\n",
       "        vertical-align: middle;\n",
       "    }\n",
       "\n",
       "    .dataframe tbody tr th {\n",
       "        vertical-align: top;\n",
       "    }\n",
       "\n",
       "    .dataframe thead th {\n",
       "        text-align: right;\n",
       "    }\n",
       "</style>\n",
       "<table border=\"1\" class=\"dataframe\">\n",
       "  <thead>\n",
       "    <tr style=\"text-align: right;\">\n",
       "      <th></th>\n",
       "      <th>Pclass</th>\n",
       "      <th>Persons</th>\n",
       "      <th>Survived</th>\n",
       "    </tr>\n",
       "  </thead>\n",
       "  <tbody>\n",
       "    <tr>\n",
       "      <th>0</th>\n",
       "      <td>1</td>\n",
       "      <td>134</td>\n",
       "      <td>Survived</td>\n",
       "    </tr>\n",
       "    <tr>\n",
       "      <th>1</th>\n",
       "      <td>1</td>\n",
       "      <td>80</td>\n",
       "      <td>Died</td>\n",
       "    </tr>\n",
       "    <tr>\n",
       "      <th>2</th>\n",
       "      <td>2</td>\n",
       "      <td>87</td>\n",
       "      <td>Survived</td>\n",
       "    </tr>\n",
       "    <tr>\n",
       "      <th>3</th>\n",
       "      <td>2</td>\n",
       "      <td>97</td>\n",
       "      <td>Died</td>\n",
       "    </tr>\n",
       "    <tr>\n",
       "      <th>4</th>\n",
       "      <td>3</td>\n",
       "      <td>119</td>\n",
       "      <td>Survived</td>\n",
       "    </tr>\n",
       "    <tr>\n",
       "      <th>5</th>\n",
       "      <td>3</td>\n",
       "      <td>372</td>\n",
       "      <td>Died</td>\n",
       "    </tr>\n",
       "  </tbody>\n",
       "</table>\n",
       "</div>"
      ],
      "text/plain": [
       "  Pclass  Persons  Survived\n",
       "0      1      134  Survived\n",
       "1      1       80      Died\n",
       "2      2       87  Survived\n",
       "3      2       97      Died\n",
       "4      3      119  Survived\n",
       "5      3      372      Died"
      ]
     },
     "execution_count": 22,
     "metadata": {},
     "output_type": "execute_result"
    }
   ],
   "source": [
    "# Grouped bar chart showing passengers per Pclass in series 'Survived' and 'Died'\n",
    "# List of x values (Pclass)\n",
    "x_values = ['1', '1', '2', '2', '3', '3']\n",
    "# List of y values for both series count_survived, count_died for each x_value\n",
    "y_values = [\n",
    "    len(df[(df['Pclass']==1) & (df['Survived']==1)]), len(df[(df['Pclass']==1) & (df['Survived']==0)]),\n",
    "    len(df[(df['Pclass']==2) & (df['Survived']==1)]), len(df[(df['Pclass']==2) & (df['Survived']==0)]),\n",
    "    len(df[(df['Pclass']==3) & (df['Survived']==1)]), len(df[(df['Pclass']==3) & (df['Survived']==0)])\n",
    "]\n",
    "# List of series labels\n",
    "series = ['Survived', 'Died', 'Survived', 'Died', 'Survived', 'Died']\n",
    "\n",
    "# Create dataframe class_df\n",
    "class_df = pd.DataFrame({'Pclass': x_values,\n",
    "                        'Persons': y_values,\n",
    "                        'Survived': series})\n",
    "# view dataframe\n",
    "class_df"
   ]
  },
  {
   "cell_type": "code",
   "execution_count": 23,
   "id": "3a8b707f-e6ef-49e1-8b53-f5cd57c9525a",
   "metadata": {},
   "outputs": [
    {
     "data": {
      "text/plain": [
       "<Axes: xlabel='Pclass', ylabel='Persons'>"
      ]
     },
     "execution_count": 23,
     "metadata": {},
     "output_type": "execute_result"
    },
    {
     "data": {
      "image/png": "[encoded data removed]",
      "text/plain": [
       "<Figure size 640x480 with 1 Axes>"
      ]
     },
     "metadata": {},
     "output_type": "display_data"
    }
   ],
   "source": [
    "# Plot grouped bar chart\n",
    "fig = plt.figure()\n",
    "sns.barplot(x='Pclass', y='Persons', hue='Survived', data = class_df)"
   ]
  },
  {
   "cell_type": "markdown",
   "id": "dd5b6733-3a7a-45b0-a888-d6c53ebdecee",
   "metadata": {},
   "source": [
    "The grouped bar plot shows that more 1st class passengers survived the Titanic than any other class. Comparing the survived and died persons in each class shows that more than half of the 1st class passengers survived, just less than half of the second class and perhaps a quarter of the third class passengers survived."
   ]
  },
  {
   "cell_type": "code",
   "execution_count": 24,
   "id": "9f081066-eb74-4519-b00e-2e1ecdbeb306",
   "metadata": {},
   "outputs": [
    {
     "name": "stdout",
     "output_type": "stream",
     "text": [
      "62.6% 1st class passengers survived the Titanic.\n",
      "47.3% 2nd class passengers survived the Titanic.\n",
      "24.2% 3rd class passengers survived the Titanic.\n"
     ]
    }
   ],
   "source": [
    "# Performing the calculation to check my assertion about the proportion of survivors by class\n",
    "\n",
    "# Size of each Pclass\n",
    "pop_Pclasses = class_df.groupby('Pclass')['Persons'].sum()\n",
    "\n",
    "# Survivors in each Pclass\n",
    "survive_1 = class_df.iloc[0]['Persons']\n",
    "survive_2 = class_df.iloc[2]['Persons']\n",
    "survive_3 = class_df.iloc[4]['Persons']\n",
    "\n",
    "# Find results\n",
    "result_1 = 100*survive_1/pop_Pclasses.iloc[0]\n",
    "result_2 = 100*survive_2/pop_Pclasses.iloc[1]\n",
    "result_3 = 100*survive_3/pop_Pclasses.iloc[2]\n",
    "\n",
    "#  Display results\n",
    "print(f\"{result_1:.1f}% 1st class passengers survived the Titanic.\")\n",
    "print(f\"{result_2:.1f}% 2nd class passengers survived the Titanic.\")\n",
    "print(f\"{result_3:.1f}% 3rd class passengers survived the Titanic.\")"
   ]
  },
  {
   "cell_type": "markdown",
   "id": "4ebddc88-5761-4e80-86e0-bd8da86fb3df",
   "metadata": {},
   "source": [
    "These results show higher proportions of 1st and 2nd class passengers survived the Titanic than 3rd class. This indicates upper class passengers were prioritised for places in the lifeboats."
   ]
  },
  {
   "cell_type": "markdown",
   "id": "9f851015-888a-4db0-a937-e1ee61dccd07",
   "metadata": {},
   "source": [
    "## Is \"Women and Children first\" supported by the data?"
   ]
  },
  {
   "cell_type": "code",
   "execution_count": 25,
   "id": "7c39edeb-75ba-45f6-aa99-f10abb5966c2",
   "metadata": {},
   "outputs": [
    {
     "data": {
      "image/png": "[encoded data removed]",
      "text/plain": [
       "<Figure size 640x480 with 1 Axes>"
      ]
     },
     "metadata": {},
     "output_type": "display_data"
    }
   ],
   "source": [
    "# Display survivor by sex as a histogram\n",
    "fig = plt.figure()\n",
    "sns.histplot(data=df, x='Sex', hue='Survived', multiple='stack', palette = 'bright')\n",
    "plt.show()"
   ]
  },
  {
   "cell_type": "markdown",
   "id": "be3778a8-2cde-41c1-a5f2-e425f65a947c",
   "metadata": {},
   "source": [
    "The histplot shows that both the number of female survivors and the proportion of female survivors (orange bars) is significantly higher than for males. This supports the claim that women were prioritised over men.\n",
    "\n",
    "For the second part of the claim, that children were prioritised, I will revert to the df_age data and remove the NaN entries. This avoids the substitute values biasing the result."
   ]
  },
  {
   "cell_type": "code",
   "execution_count": 26,
   "id": "21c863ad-c236-4c6c-b366-365a0e45a3b8",
   "metadata": {},
   "outputs": [
    {
     "data": {
      "image/png": "[encoded data removed]",
      "text/plain": [
       "<Figure size 640x480 with 1 Axes>"
      ]
     },
     "metadata": {},
     "output_type": "display_data"
    }
   ],
   "source": [
    "# Prepare the dataset\n",
    "age_df = df.dropna(subset=['Age'])\n",
    "# Display survivor by age as a histogram\n",
    "fig = plt.figure()\n",
    "sns.histplot(data=age_df, x='Age', hue='Survived', multiple='stack', palette = 'bright')\n",
    "plt.show()"
   ]
  },
  {
   "cell_type": "markdown",
   "id": "ad097bd4-939a-4d03-8cb9-0a19c863f4fd",
   "metadata": {},
   "source": [
    "This is less clear than in the women first case. Reducing the bin size to 5 years (ie 16 bins)."
   ]
  },
  {
   "cell_type": "code",
   "execution_count": 27,
   "id": "17e9a7b6-ad4e-4181-bf86-63c10725dea3",
   "metadata": {},
   "outputs": [
    {
     "data": {
      "image/png": "[encoded data removed]",
      "text/plain": [
       "<Figure size 640x480 with 1 Axes>"
      ]
     },
     "metadata": {},
     "output_type": "display_data"
    }
   ],
   "source": [
    "# Display survivor by age as a histogram\n",
    "fig = plt.figure()\n",
    "sns.histplot(data=age_df, x='Age', hue='Survived', multiple='stack', palette = 'bright', bins=16)\n",
    "plt.show()"
   ]
  },
  {
   "cell_type": "markdown",
   "id": "ac44c4dc-6422-406a-8728-ae099b548d7c",
   "metadata": {},
   "source": [
    "Looking at the proportions of survivors (in orange) against the height of each bar, which represents the number of passengers in each age group, shows the proportion of survivors is highest in the younger age groups. The Children and Young Persons Act 1908 established juvenile courts and institutions for British citizens under the age of 16 https://en.wikipedia.org/wiki/Children_Act_1908. I will consider children to be under 16 and adults 16 or over as a final check on the claim children were prioritized.  "
   ]
  },
  {
   "cell_type": "code",
   "execution_count": 28,
   "id": "86d45c96-0f65-46ac-b432-e566233006f2",
   "metadata": {},
   "outputs": [
    {
     "name": "stdout",
     "output_type": "stream",
     "text": [
      "The proportion of children who survived (1) vs died (0):\n",
      "Survived\n",
      "0    0.409639\n",
      "1    0.590361\n",
      "Name: proportion, dtype: float64\n",
      "\n",
      "The proportion of adults who survived (1) vs died (0):\n",
      "Survived\n",
      "0    0.638958\n",
      "1    0.361042\n",
      "Name: proportion, dtype: float64\n"
     ]
    }
   ],
   "source": [
    "# Finding the proportion of survivors for children and adults\n",
    "# Creating temporary dataframes\n",
    "df_child = age_df.query('Age < 16')\n",
    "df_adult = age_df.query('Age >= 16')\n",
    "\n",
    "# Use count_values to display the results\n",
    "print(f\"The proportion of children who survived (1) vs died (0):\")\n",
    "print(df_child['Survived'].value_counts(normalize=True).sort_index())\n",
    "print(f\"\\nThe proportion of adults who survived (1) vs died (0):\")\n",
    "print(df_adult['Survived'].value_counts(normalize=True).sort_index())"
   ]
  },
  {
   "cell_type": "markdown",
   "id": "d7e6aa73-b012-49f0-9cab-177c90505a8b",
   "metadata": {},
   "source": [
    "The overall proportion of children who survived is 59% compared with 36% for adults. Therefore this data supports the premise \"Women and children first.\""
   ]
  },
  {
   "cell_type": "markdown",
   "id": "32a0946b-f916-4bf4-b99c-8ff708f0ec23",
   "metadata": {},
   "source": [
    "## My own observation about the data\n",
    "\n",
    "There is a weak positive correlation (+0.17) between Embark_C and Survived, while there is a null correlation (+0.0045) between Embark_Q and Survived. I'm going to look for any connection between where a passenger embarked and their survival potential."
   ]
  },
  {
   "cell_type": "code",
   "execution_count": 29,
   "id": "ad1d7ba4-0bac-4138-9116-f6b240fde0a2",
   "metadata": {},
   "outputs": [
    {
     "data": {
      "text/html": [
       "<div>\n",
       "<style scoped>\n",
       "    .dataframe tbody tr th:only-of-type {\n",
       "        vertical-align: middle;\n",
       "    }\n",
       "\n",
       "    .dataframe tbody tr th {\n",
       "        vertical-align: top;\n",
       "    }\n",
       "\n",
       "    .dataframe thead th {\n",
       "        text-align: right;\n",
       "    }\n",
       "</style>\n",
       "<table border=\"1\" class=\"dataframe\">\n",
       "  <thead>\n",
       "    <tr style=\"text-align: right;\">\n",
       "      <th></th>\n",
       "      <th>Embarked</th>\n",
       "      <th>Persons</th>\n",
       "      <th>Survived</th>\n",
       "    </tr>\n",
       "  </thead>\n",
       "  <tbody>\n",
       "    <tr>\n",
       "      <th>0</th>\n",
       "      <td>Cherbourg</td>\n",
       "      <td>93</td>\n",
       "      <td>Survived</td>\n",
       "    </tr>\n",
       "    <tr>\n",
       "      <th>1</th>\n",
       "      <td>Cherbourg</td>\n",
       "      <td>75</td>\n",
       "      <td>Died</td>\n",
       "    </tr>\n",
       "    <tr>\n",
       "      <th>2</th>\n",
       "      <td>Queenstown</td>\n",
       "      <td>30</td>\n",
       "      <td>Survived</td>\n",
       "    </tr>\n",
       "    <tr>\n",
       "      <th>3</th>\n",
       "      <td>Queenstown</td>\n",
       "      <td>47</td>\n",
       "      <td>Died</td>\n",
       "    </tr>\n",
       "    <tr>\n",
       "      <th>4</th>\n",
       "      <td>Southampton</td>\n",
       "      <td>217</td>\n",
       "      <td>Survived</td>\n",
       "    </tr>\n",
       "    <tr>\n",
       "      <th>5</th>\n",
       "      <td>Southampton</td>\n",
       "      <td>427</td>\n",
       "      <td>Died</td>\n",
       "    </tr>\n",
       "  </tbody>\n",
       "</table>\n",
       "</div>"
      ],
      "text/plain": [
       "      Embarked  Persons  Survived\n",
       "0    Cherbourg       93  Survived\n",
       "1    Cherbourg       75      Died\n",
       "2   Queenstown       30  Survived\n",
       "3   Queenstown       47      Died\n",
       "4  Southampton      217  Survived\n",
       "5  Southampton      427      Died"
      ]
     },
     "execution_count": 29,
     "metadata": {},
     "output_type": "execute_result"
    }
   ],
   "source": [
    "# Grouped bar chart showing passengers per Embarked in series 'Survived' and 'Died'\n",
    "# List of x values (Embarked)\n",
    "x_values = ['Cherbourg', 'Cherbourg', 'Queenstown', 'Queenstown', 'Southampton', 'Southampton']\n",
    "# List of y values for both series count_survived, count_died for each x_value\n",
    "y_values = [\n",
    "    len(df[(df['Embarked']=='C') & (df['Survived']==1)]), len(df[(df['Embarked']=='C') & (df['Survived']==0)]),\n",
    "    len(df[(df['Embarked']=='Q') & (df['Survived']==1)]), len(df[(df['Embarked']=='Q') & (df['Survived']==0)]),\n",
    "    len(df[(df['Embarked']=='S') & (df['Survived']==1)]), len(df[(df['Embarked']=='S') & (df['Survived']==0)])\n",
    "]\n",
    "# List of series labels\n",
    "series = ['Survived', 'Died', 'Survived', 'Died', 'Survived', 'Died']\n",
    "\n",
    "# Create dataframe class_df\n",
    "embark_df = pd.DataFrame({'Embarked': x_values,\n",
    "                        'Persons': y_values,\n",
    "                        'Survived': series})\n",
    "# view dataframe\n",
    "embark_df"
   ]
  },
  {
   "cell_type": "code",
   "execution_count": 30,
   "id": "6d7efd6b-03b7-43a9-8ea2-94795152f102",
   "metadata": {},
   "outputs": [
    {
     "data": {
      "text/plain": [
       "<Axes: xlabel='Embarked', ylabel='Persons'>"
      ]
     },
     "execution_count": 30,
     "metadata": {},
     "output_type": "execute_result"
    },
    {
     "data": {
      "image/png": "[encoded data removed]",
      "text/plain": [
       "<Figure size 640x480 with 1 Axes>"
      ]
     },
     "metadata": {},
     "output_type": "display_data"
    }
   ],
   "source": [
    "# Plot grouped bar chart\n",
    "fig = plt.figure()\n",
    "sns.barplot(x='Embarked', y='Persons', hue='Survived', data = embark_df)"
   ]
  },
  {
   "cell_type": "markdown",
   "id": "6682ded2-4016-412e-9df7-5ad52b286c13",
   "metadata": {},
   "source": [
    "This chart shows the passengers who embarked at Cherbourg had a higher proportion of survivors than people embarking at Queenstown or Southampton. Checking to see if more 1st class passengers embarked at Cherbourg or if more of them were women or children, since we have already established such passengers were more likely to survive."
   ]
  },
  {
   "cell_type": "code",
   "execution_count": 31,
   "id": "95c01d91-2141-41d2-aec6-1fb6c0f6352e",
   "metadata": {},
   "outputs": [
    {
     "data": {
      "text/html": [
       "<div>\n",
       "<style scoped>\n",
       "    .dataframe tbody tr th:only-of-type {\n",
       "        vertical-align: middle;\n",
       "    }\n",
       "\n",
       "    .dataframe tbody tr th {\n",
       "        vertical-align: top;\n",
       "    }\n",
       "\n",
       "    .dataframe thead th {\n",
       "        text-align: right;\n",
       "    }\n",
       "</style>\n",
       "<table border=\"1\" class=\"dataframe\">\n",
       "  <thead>\n",
       "    <tr style=\"text-align: right;\">\n",
       "      <th></th>\n",
       "      <th>Embarked</th>\n",
       "      <th>Persons</th>\n",
       "      <th>Pclass</th>\n",
       "    </tr>\n",
       "  </thead>\n",
       "  <tbody>\n",
       "    <tr>\n",
       "      <th>0</th>\n",
       "      <td>Cherbourg</td>\n",
       "      <td>85</td>\n",
       "      <td>1st</td>\n",
       "    </tr>\n",
       "    <tr>\n",
       "      <th>1</th>\n",
       "      <td>Cherbourg</td>\n",
       "      <td>17</td>\n",
       "      <td>2nd</td>\n",
       "    </tr>\n",
       "    <tr>\n",
       "      <th>2</th>\n",
       "      <td>Cherbourg</td>\n",
       "      <td>66</td>\n",
       "      <td>3rd</td>\n",
       "    </tr>\n",
       "    <tr>\n",
       "      <th>3</th>\n",
       "      <td>Queenstown</td>\n",
       "      <td>2</td>\n",
       "      <td>1st</td>\n",
       "    </tr>\n",
       "    <tr>\n",
       "      <th>4</th>\n",
       "      <td>Queenstown</td>\n",
       "      <td>3</td>\n",
       "      <td>2nd</td>\n",
       "    </tr>\n",
       "    <tr>\n",
       "      <th>5</th>\n",
       "      <td>Queenstown</td>\n",
       "      <td>72</td>\n",
       "      <td>3rd</td>\n",
       "    </tr>\n",
       "    <tr>\n",
       "      <th>6</th>\n",
       "      <td>Southampton</td>\n",
       "      <td>127</td>\n",
       "      <td>1st</td>\n",
       "    </tr>\n",
       "    <tr>\n",
       "      <th>7</th>\n",
       "      <td>Southampton</td>\n",
       "      <td>164</td>\n",
       "      <td>2nd</td>\n",
       "    </tr>\n",
       "    <tr>\n",
       "      <th>8</th>\n",
       "      <td>Southampton</td>\n",
       "      <td>353</td>\n",
       "      <td>3rd</td>\n",
       "    </tr>\n",
       "  </tbody>\n",
       "</table>\n",
       "</div>"
      ],
      "text/plain": [
       "      Embarked  Persons Pclass\n",
       "0    Cherbourg       85    1st\n",
       "1    Cherbourg       17    2nd\n",
       "2    Cherbourg       66    3rd\n",
       "3   Queenstown        2    1st\n",
       "4   Queenstown        3    2nd\n",
       "5   Queenstown       72    3rd\n",
       "6  Southampton      127    1st\n",
       "7  Southampton      164    2nd\n",
       "8  Southampton      353    3rd"
      ]
     },
     "execution_count": 31,
     "metadata": {},
     "output_type": "execute_result"
    }
   ],
   "source": [
    "# Pclass distribution for each embarkation point\n",
    "# List of x values (Embarked)\n",
    "x_values = ['Cherbourg', 'Cherbourg', 'Cherbourg', 'Queenstown', 'Queenstown', 'Queenstown', 'Southampton', 'Southampton', 'Southampton']\n",
    "# List of y values for each class\n",
    "y_values = [\n",
    "    len(df[(df['Embarked']=='C') & (df['Pclass']==1)]), len(df[(df['Embarked']=='C') & (df['Pclass']==2)]),\n",
    "    len(df[(df['Embarked']=='C') & (df['Pclass']==3)]), len(df[(df['Embarked']=='Q') & (df['Pclass']==1)]),\n",
    "    len(df[(df['Embarked']=='Q') & (df['Pclass']==2)]), len(df[(df['Embarked']=='Q') & (df['Pclass']==3)]),\n",
    "    len(df[(df['Embarked']=='S') & (df['Pclass']==1)]), len(df[(df['Embarked']=='S') & (df['Pclass']==2)]),\n",
    "    len(df[(df['Embarked']=='S') & (df['Pclass']==3)])\n",
    "]\n",
    "# List of series labels\n",
    "series = ['1st', '2nd', '3rd', '1st', '2nd', '3rd', '1st', '2nd', '3rd']\n",
    "\n",
    "# Create dataframe class_df\n",
    "embark_class = pd.DataFrame({'Embarked': x_values,\n",
    "                        'Persons': y_values,\n",
    "                        'Pclass': series})\n",
    "# view dataframe\n",
    "embark_class"
   ]
  },
  {
   "cell_type": "code",
   "execution_count": 32,
   "id": "0fea1fba-96d5-40aa-935f-4236b3b4b624",
   "metadata": {},
   "outputs": [
    {
     "data": {
      "text/plain": [
       "<Axes: xlabel='Embarked', ylabel='Persons'>"
      ]
     },
     "execution_count": 32,
     "metadata": {},
     "output_type": "execute_result"
    },
    {
     "data": {
      "image/png": "[encoded data removed]",
      "text/plain": [
       "<Figure size 640x480 with 1 Axes>"
      ]
     },
     "metadata": {},
     "output_type": "display_data"
    }
   ],
   "source": [
    "# Plot grouped bar chart\n",
    "fig = plt.figure()\n",
    "sns.barplot(x='Embarked', y='Persons', hue='Pclass', data = embark_class)"
   ]
  },
  {
   "cell_type": "markdown",
   "id": "93f8b02a-dd49-4b8d-9d85-8aa8dfc97b72",
   "metadata": {},
   "source": [
    "The apparent correlation between surviving and embarking in Cherbourg reflects the far higher proportion of 1st class passengers embarking from Cherbourg. Many of these were wealthy individuals traveling to New York from Paris, such as John Jacob Astor IV returning to America with his pregnant wife https://en.wikipedia.org/wiki/John_Jacob_Astor_IV#Titanic."
   ]
  }
 ],
 "metadata": {
  "kernelspec": {
   "display_name": "Python 3 (ipykernel)",
   "language": "python",
   "name": "python3"
  },
  "language_info": {
   "codemirror_mode": {
    "name": "ipython",
    "version": 3
   },
   "file_extension": ".py",
   "mimetype": "text/x-python",
   "name": "python",
   "nbconvert_exporter": "python",
   "pygments_lexer": "ipython3",
   "version": "3.13.3"
  }
 },
 "nbformat": 4,
 "nbformat_minor": 5
}
